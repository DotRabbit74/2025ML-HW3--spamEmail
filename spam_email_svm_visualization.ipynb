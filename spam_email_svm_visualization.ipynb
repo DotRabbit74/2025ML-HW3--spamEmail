{
 "cells": [
  {
   "cell_type": "markdown",
   "id": "ac8d3396",
   "metadata": {},
   "source": [
    "# Spam Email Classification: Data Visualization & Live Inference\n",
    "\n",
    "本 notebook 提供 spam email 資料視覺化、模型訓練、效能評估（含 threshold sweep）、以及即時推論互動介面。"
   ]
  },
  {
   "cell_type": "code",
   "execution_count": null,
   "id": "cb22e49c",
   "metadata": {},
   "outputs": [],
   "source": [
    "# 1. Import Required Libraries\n",
    "import pandas as pd\n",
    "import numpy as np\n",
    "import matplotlib.pyplot as plt\n",
    "import seaborn as sns\n",
    "from sklearn.model_selection import train_test_split\n",
    "from sklearn.feature_extraction.text import TfidfVectorizer\n",
    "from sklearn.svm import LinearSVC\n",
    "from sklearn.metrics import classification_report, accuracy_score, confusion_matrix, roc_curve, precision_recall_curve, auc, f1_score, precision_score, recall_score\n",
    "import ipywidgets as widgets\n",
    "from IPython.display import display, clear_output\n",
    "import random\n",
    "import warnings\n",
    "warnings.filterwarnings('ignore')"
   ]
  },
  {
   "cell_type": "code",
   "execution_count": null,
   "id": "6d1c659d",
   "metadata": {},
   "outputs": [],
   "source": [
    "# 2. Load and Preprocess Data\n",
    "url = 'https://raw.githubusercontent.com/PacktPublishing/Hands-On-Artificial-Intelligence-for-Cybersecurity/refs/heads/master/Chapter03/datasets/sms_spam_no_header.csv'\n",
    "df = pd.read_csv(url, encoding='latin-1', header=None, names=['label', 'text'])\n",
    "df['label_num'] = df['label'].map({'ham': 0, 'spam': 1})\n",
    "\n",
    "# Train/test split\n",
    "df_train, df_test = train_test_split(df, test_size=0.2, random_state=42, stratify=df['label_num'])\n",
    "\n",
    "# Vectorize text\n",
    "vectorizer = TfidfVectorizer()\n",
    "X_train = vectorizer.fit_transform(df_train['text'])\n",
    "X_test = vectorizer.transform(df_test['text'])\n",
    "y_train = df_train['label_num']\n",
    "y_test = df_test['label_num']"
   ]
  },
  {
   "cell_type": "markdown",
   "id": "d398f716",
   "metadata": {},
   "source": [
    "## 3. Visualize Data Overview\n",
    "- 類別分布\n",
    "- 訊息長度分布"
   ]
  },
  {
   "cell_type": "code",
   "execution_count": null,
   "id": "ce178665",
   "metadata": {},
   "outputs": [],
   "source": [
    "# 類別分布\n",
    "plt.figure(figsize=(5,3))\n",
    "sns.countplot(data=df, x='label')\n",
    "plt.title('Class Distribution')\n",
    "plt.show()\n",
    "\n",
    "# 訊息長度分布\n",
    "plt.figure(figsize=(8,4))\n",
    "df['length'] = df['text'].apply(len)\n",
    "sns.histplot(data=df, x='length', hue='label', bins=40, kde=True, element='step')\n",
    "plt.title('Message Length Distribution by Class')\n",
    "plt.show()"
   ]
  },
  {
   "cell_type": "markdown",
   "id": "4d1af6b4",
   "metadata": {},
   "source": [
    "## 4. Visualize Top Tokens by Class (Adjustable N)\n",
    "- 可互動調整 N，顯示每類別 top N token"
   ]
  },
  {
   "cell_type": "code",
   "execution_count": null,
   "id": "f0c39f99",
   "metadata": {},
   "outputs": [],
   "source": [
    "# Top Tokens by Class (互動式)\n",
    "def plot_top_tokens_by_class(N=20):\n",
    "    from collections import Counter\n",
    "    fig, axes = plt.subplots(1, 2, figsize=(14, 5))\n",
    "    for idx, label in enumerate(['ham', 'spam']):\n",
    "        texts = df[df['label'] == label]['text']\n",
    "        tokens = ' '.join(texts).lower().split()\n",
    "        counter = Counter(tokens)\n",
    "        most_common = counter.most_common(N)\n",
    "        tokens_, counts_ = zip(*most_common)\n",
    "        sns.barplot(x=list(counts_), y=list(tokens_), ax=axes[idx], orient='h')\n",
    "        axes[idx].set_title(f'Top {N} Tokens: {label}')\n",
    "    plt.tight_layout()\n",
    "    plt.show()\n",
    "\n",
    "N_slider = widgets.IntSlider(value=20, min=5, max=50, step=1, description='Top N:')\n",
    "widgets.interact(plot_top_tokens_by_class, N=N_slider);"
   ]
  },
  {
   "cell_type": "markdown",
   "id": "2397cdd7",
   "metadata": {},
   "source": [
    "## 5. Train Classification Model\n",
    "- 使用 SVM 訓練分類器"
   ]
  },
  {
   "cell_type": "code",
   "execution_count": null,
   "id": "a2c29529",
   "metadata": {},
   "outputs": [],
   "source": [
    "# 訓練 SVM 分類器\n",
    "clf = LinearSVC()\n",
    "clf.fit(X_train, y_train)\n",
    "\n",
    "y_pred = clf.predict(X_test)\n",
    "y_pred_proba = clf.decision_function(X_test)  # 用於 threshold sweep"
   ]
  },
  {
   "cell_type": "markdown",
   "id": "31566afa",
   "metadata": {},
   "source": [
    "## 6. Visualize Model Performance (Test)\n",
    "- Confusion Matrix\n",
    "- ROC Curve\n",
    "- Threshold Sweep (precision/recall/f1)"
   ]
  },
  {
   "cell_type": "code",
   "execution_count": null,
   "id": "49ab441e",
   "metadata": {},
   "outputs": [],
   "source": [
    "# Confusion Matrix\n",
    "cm = confusion_matrix(y_test, y_pred)\n",
    "sns.heatmap(cm, annot=True, fmt='d', cmap='Blues', xticklabels=['ham', 'spam'], yticklabels=['ham', 'spam'])\n",
    "plt.xlabel('Predicted')\n",
    "plt.ylabel('Actual')\n",
    "plt.title('Confusion Matrix')\n",
    "plt.show()\n",
    "\n",
    "# ROC Curve\n",
    "fpr, tpr, thresholds = roc_curve(y_test, y_pred_proba)\n",
    "roc_auc = auc(fpr, tpr)\n",
    "plt.figure(figsize=(6,4))\n",
    "plt.plot(fpr, tpr, label=f'ROC curve (AUC = {roc_auc:.2f})')\n",
    "plt.plot([0,1], [0,1], 'k--')\n",
    "plt.xlabel('False Positive Rate')\n",
    "plt.ylabel('True Positive Rate')\n",
    "plt.title('ROC Curve')\n",
    "plt.legend()\n",
    "plt.show()\n",
    "\n",
    "# Threshold Sweep (precision/recall/f1)\n",
    "def plot_threshold_sweep():\n",
    "    thresholds = np.linspace(min(y_pred_proba), max(y_pred_proba), 100)\n",
    "    precisions, recalls, f1s = [], [], []\n",
    "    for t in thresholds:\n",
    "        preds = (y_pred_proba > t).astype(int)\n",
    "        precisions.append(precision_score(y_test, preds))\n",
    "        recalls.append(recall_score(y_test, preds))\n",
    "        f1s.append(f1_score(y_test, preds))\n",
    "    plt.figure(figsize=(8,5))\n",
    "    plt.plot(thresholds, precisions, label='Precision')\n",
    "    plt.plot(thresholds, recalls, label='Recall')\n",
    "    plt.plot(thresholds, f1s, label='F1-score')\n",
    "    plt.xlabel('Threshold')\n",
    "    plt.ylabel('Score')\n",
    "    plt.title('Threshold Sweep: Precision/Recall/F1')\n",
    "    plt.legend()\n",
    "    plt.show()\n",
    "\n",
    "plot_threshold_sweep()"
   ]
  },
  {
   "cell_type": "markdown",
   "id": "21ae4e66",
   "metadata": {},
   "source": [
    "## 7. Live Inference: Manual Input & Sample Generation\n",
    "- 可手動輸入訊息或按鈕產生 spam/ham 範例，並即時顯示預測與機率"
   ]
  },
  {
   "cell_type": "code",
   "execution_count": null,
   "id": "1160330b",
   "metadata": {},
   "outputs": [],
   "source": [
    "# Live Inference Widget\n",
    "input_box = widgets.Text(\n",
    "    value='',\n",
    "    placeholder='請輸入訊息',\n",
    "    description='訊息:',\n",
    "    layout=widgets.Layout(width='80%')\n",
    ")\n",
    "\n",
    "output_box = widgets.Output()\n",
    "\n",
    "spam_examples = df[df['label']=='spam']['text'].sample(5, random_state=42).tolist()\n",
    "ham_examples = df[df['label']=='ham']['text'].sample(5, random_state=42).tolist()\n",
    "\n",
    "spam_btn = widgets.Button(description='產生 spam 範例')\n",
    "ham_btn = widgets.Button(description='產生 ham 範例')\n",
    "predict_btn = widgets.Button(description='預測')\n",
    "\n",
    "example_idx = {'spam': 0, 'ham': 0}\n",
    "\n",
    "def on_spam_click(b):\n",
    "    input_box.value = spam_examples[example_idx['spam'] % len(spam_examples)]\n",
    "    example_idx['spam'] += 1\n",
    "\n",
    "def on_ham_click(b):\n",
    "    input_box.value = ham_examples[example_idx['ham'] % len(ham_examples)]\n",
    "    example_idx['ham'] += 1\n",
    "\n",
    "def on_predict_click(b=None):\n",
    "    with output_box:\n",
    "        clear_output()\n",
    "        text = input_box.value\n",
    "        if not text.strip():\n",
    "            print('請輸入訊息')\n",
    "            return\n",
    "        X_vec = vectorizer.transform([text])\n",
    "        pred = clf.predict(X_vec)[0]\n",
    "        proba = clf.decision_function(X_vec)[0]\n",
    "        proba_sigmoid = 1 / (1 + np.exp(-proba))\n",
    "        print(f'預測結果: {\"spam\" if pred==1 else \"ham\"}')\n",
    "        print(f'預測機率 (sigmoid): {proba_sigmoid:.3f}')\n",
    "\n",
    "spam_btn.on_click(on_spam_click)\n",
    "ham_btn.on_click(on_ham_click)\n",
    "predict_btn.on_click(on_predict_click)\n",
    "\n",
    "ui = widgets.HBox([input_box, predict_btn, spam_btn, ham_btn])\n",
    "display(ui, output_box)"
   ]
  }
 ],
 "metadata": {
  "language_info": {
   "name": "python"
  }
 },
 "nbformat": 4,
 "nbformat_minor": 5
}
